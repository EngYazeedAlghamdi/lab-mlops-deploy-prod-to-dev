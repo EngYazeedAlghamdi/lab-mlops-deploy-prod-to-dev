{
 "cells": [
  {
   "cell_type": "code",
   "execution_count": null,
   "id": "0de8fe7b",
   "metadata": {
    "vscode": {
     "languageId": "plaintext"
    }
   },
   "outputs": [],
   "source": [
    "\n",
    "# Simple Project: Add Two Numbers\n",
    "\n",
    "# Ask the user for the first number\n",
    "num1 = float(input(\"Enter the first number: \"))\n",
    "\n",
    "# Ask the user for the second number\n",
    "num2 = float(input(\"Enter the second number: \"))\n",
    "\n",
    "# Add the two numbers\n",
    "sum = num1 + num2\n",
    "\n",
    "# Print the result\n",
    "print(\"The sum is:\", sum)"
   ]
  }
 ],
 "metadata": {
  "language_info": {
   "name": "python"
  }
 },
 "nbformat": 4,
 "nbformat_minor": 5
}
